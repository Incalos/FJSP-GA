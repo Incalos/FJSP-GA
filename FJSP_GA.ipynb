{
 "cells": [
  {
   "cell_type": "markdown",
   "source": [
    "#### 导入第三方库"
   ],
   "metadata": {
    "collapsed": false,
    "pycharm": {
     "name": "#%% md\n"
    }
   }
  },
  {
   "cell_type": "code",
   "execution_count": 1,
   "metadata": {
    "collapsed": true,
    "pycharm": {
     "name": "#%%\n"
    }
   },
   "outputs": [],
   "source": [
    "import matplotlib.pyplot as plt\n",
    "import numpy as np\n",
    "import random\n",
    "import itertools"
   ]
  },
  {
   "cell_type": "markdown",
   "source": [
    "#### 实例化模块"
   ],
   "metadata": {
    "collapsed": false,
    "pycharm": {
     "name": "#%% md\n"
    }
   }
  },
  {
   "cell_type": "code",
   "execution_count": 2,
   "outputs": [],
   "source": [
    "# Processing_time：工件各工序对应各机器加工时间矩阵\n",
    "# J：各工件对应的工序数字典\n",
    "# M_num：加工机器数\n",
    "# O_num：加工工序数\n",
    "# J_num：工件个数\n",
    "\n",
    "CKS201 = [[10, 9, 9999, 9999, 9999, 9999, 9999, 9999, 9999, 9999, 9999, 9999],\n",
    "          [9999, 9999, 14, 16, 9999, 9999, 9999, 9999, 9999, 9999, 9999, 9999],\n",
    "          [9999, 9999, 9999, 9999, 15, 25, 21, 9999, 9999, 9999, 9999, 9999],\n",
    "          [9999, 9999, 9999, 9999, 9999, 9999, 9999, 9, 13, 15, 24, 9999],\n",
    "          [9999, 9999, 9999, 9999, 9999, 9999, 9999, 9999, 9999, 9999, 9999, 10]]\n",
    "CKS301 = [[12, 9, 10, 9999, 9999, 9999, 9999, 9999, 9999, 9999, 9999, 9999],\n",
    "          [9999, 9999, 9999, 16, 9999, 9999, 9999, 9999, 9999, 9999, 9999, 9999],\n",
    "          [9999, 9999, 9999, 9999, 15, 9999, 9999, 9999, 9999, 9999, 9999, 9999],\n",
    "          [9999, 9999, 9999, 9999, 9999, 27, 22, 9999, 9999, 9999, 9999, 9999],\n",
    "          [9999, 9999, 9999, 9999, 9999, 9999, 9999, 21, 17, 9999, 9999, 9999],\n",
    "          [9999, 9999, 9999, 9999, 9999, 9999, 9999, 9999, 9999, 19, 9999, 9999],\n",
    "          [9999, 9999, 9999, 9999, 9999, 9999, 9999, 9999, 9999, 9999, 17, 9999],\n",
    "          [9999, 9999, 9999, 9999, 9999, 9999, 9999, 9999, 9999, 9999, 9999, 18]]\n",
    "Processing_time = [CKS201]*3\n",
    "Processing_time.extend([CKS301]*4)\n",
    "J = {i:5 for i in range(1,4)}\n",
    "J.update({j:8 for j in range(4,8)})\n",
    "M_num = 12\n",
    "O_num = 3 * 5 + 4 * 8\n",
    "J_num = 7"
   ],
   "metadata": {
    "collapsed": false,
    "pycharm": {
     "name": "#%%\n"
    }
   }
  },
  {
   "cell_type": "markdown",
   "source": [
    "#### 工件处理模块"
   ],
   "metadata": {
    "collapsed": false,
    "pycharm": {
     "name": "#%% md\n"
    }
   }
  },
  {
   "cell_type": "code",
   "execution_count": 3,
   "outputs": [],
   "source": [
    "class Job:\n",
    "    def __init__(self, Job_index, Operation_num):\n",
    "        self.Job_index = Job_index # 工件序号\n",
    "        self.Operation_num = Operation_num  # 工序数\n",
    "        self.Processed = [] # 记录工件工序的加工进度\n",
    "        self.J_start = [] # 记录工件工序的开始时间\n",
    "        self.J_end = [] # 记录工件工序的结束时间\n",
    "        self.J_machine = [] # 记录工件工序选择的机器\n",
    "        self.Last_Processing_Machine = None # 工件当前工序的加工机器\n",
    "        self.Last_Processing_end_time = 0 # 工件当前工序的结束时间\n",
    "\n",
    "    def Current_Processed(self):\n",
    "        return len(self.Processed)\n",
    "\n",
    "    def _Input(self, W_Eailiest, End_time, Machine): # 工件当前工序的开始时间、结束时间、选择加工机器\n",
    "        self.Last_Processing_Machine = Machine\n",
    "        self.Last_Processing_end_time = End_time\n",
    "        self.Processed.append(1)\n",
    "        self.J_start.append(W_Eailiest)\n",
    "        self.J_end.append(End_time)\n",
    "        self.J_machine.append(Machine)"
   ],
   "metadata": {
    "collapsed": false,
    "pycharm": {
     "name": "#%%\n"
    }
   }
  },
  {
   "cell_type": "markdown",
   "source": [
    "#### 机器处理模块"
   ],
   "metadata": {
    "collapsed": false,
    "pycharm": {
     "name": "#%% md\n"
    }
   }
  },
  {
   "cell_type": "code",
   "execution_count": 4,
   "outputs": [],
   "source": [
    "class Machine_Time_window:\n",
    "    def __init__(self, Machine_index):\n",
    "        self.Machine_index = Machine_index # 加工机器序号\n",
    "        self.assigned_task = [] # 机器分配的任务记录，包括工件序号以及工序序号\n",
    "        self.O_start = [] # 各任务工序的开始时间记录\n",
    "        self.O_end = [] # 各任务工序的结束时间记录\n",
    "        self.End_time = 0\n",
    "\n",
    "    # 机器的哪些时间窗是空的,此处只考虑内部封闭的时间窗,类似甘特图每一行往后叠加\n",
    "    def Empty_time_window(self):\n",
    "        time_window_start = []\n",
    "        time_window_end = []\n",
    "        len_time_window = []\n",
    "        if self.O_end is None:\n",
    "            pass\n",
    "        elif len(self.O_end) == 1:\n",
    "            if self.O_start[0] != 0:\n",
    "                time_window_start = [0]\n",
    "                time_window_end = [self.O_start[0]]\n",
    "        elif len(self.O_end) > 1:\n",
    "            if self.O_start[0] != 0:\n",
    "                time_window_start.append(0)\n",
    "                time_window_end.append(self.O_start[0])\n",
    "            time_window_start.extend(self.O_end[:-1])  # 因为使用时间窗的结束点就是空时间窗的开始点\n",
    "            time_window_end.extend(self.O_start[1:])\n",
    "        if time_window_end is not None:\n",
    "            len_time_window = [time_window_end[i] - time_window_start[i] for i in range(len(time_window_end))]\n",
    "        return time_window_start, time_window_end, len_time_window  #空格时间的开始，结束，时长\n",
    "\n",
    "    # 机器投入新一轮加工\n",
    "    def _Input(self, Job, M_Ealiest, P_t, O_num):\n",
    "        if self.O_end != []:\n",
    "            # 如果当前机器加工的最早开始时间比记录的大，则依次往后排任务，否则将任务插入中间的分配任务记录\n",
    "            if self.O_start[-1] > M_Ealiest:\n",
    "                for i in range(len(self.O_end)):\n",
    "                    if self.O_start[i] >= M_Ealiest:\n",
    "                        self.assigned_task.insert(i, [Job + 1, O_num + 1])\n",
    "                        break\n",
    "            else:\n",
    "                self.assigned_task.append([Job + 1, O_num + 1])\n",
    "        else:\n",
    "            self.assigned_task.append([Job + 1, O_num + 1])\n",
    "        self.O_start.append(M_Ealiest)\n",
    "        self.O_start.sort()\n",
    "        self.O_end.append(M_Ealiest + P_t)\n",
    "        self.O_end.sort()\n",
    "        self.End_time = self.O_end[-1]"
   ],
   "metadata": {
    "collapsed": false,
    "pycharm": {
     "name": "#%%\n"
    }
   }
  },
  {
   "cell_type": "markdown",
   "source": [
    "#### 基因编码模块"
   ],
   "metadata": {
    "collapsed": false,
    "pycharm": {
     "name": "#%% md\n"
    }
   }
  },
  {
   "cell_type": "code",
   "execution_count": 5,
   "outputs": [],
   "source": [
    "class Encode:\n",
    "    def __init__(self, Matrix, Pop_size, J, J_num, M_num, O_num): # Pop_size 种群数量\n",
    "        self.Matrix = Matrix  # 工件各工序对应各机器加工时间矩阵\n",
    "        self.Pop_size = Pop_size # 种群数量\n",
    "        self.J = J  # 各工件对应的工序数\n",
    "        self.J_num = J_num  # 工件数\n",
    "        self.M_num = M_num  # 机器数\n",
    "        self.O_num = O_num  # 工序数\n",
    "\n",
    "    # 生成工序准备的部分，便于后续基因的工序排序部分编码\n",
    "    def OS_List(self):\n",
    "        OS_list = []\n",
    "        for k, v in self.J.items():\n",
    "            OS_add = [k - 1 for j in range(v)]\n",
    "            OS_list.extend(OS_add)\n",
    "        return OS_list\n",
    "\n",
    "    # 种群初始化\n",
    "    def Initial(self):\n",
    "        MS = np.zeros([self.Pop_size, self.O_num], dtype=int)\n",
    "        OS_list = self.OS_List()\n",
    "        OS = np.zeros([self.Pop_size, self.O_num], dtype=int)\n",
    "        for i in range(self.Pop_size):\n",
    "            # 生成基因的工序排序部分\n",
    "            random.shuffle(OS_list)\n",
    "            OS_gongxu = OS_list\n",
    "            OS[i] = np.array(OS_gongxu)\n",
    "            # 生成基因的机器选择部分\n",
    "            GJ_list = [j for j in range(self.J_num)]\n",
    "            A = 0\n",
    "            for gon in GJ_list:\n",
    "                g = gon  # 随机选择工件集的第一个工件并从工件集中剔除这个工件\n",
    "                h = np.array(self.Matrix[g])  # 第一个工件及其对应工序的加工时间\n",
    "                for j in range(len(h)):  # 从工件的第一个工序开始选择机器\n",
    "                    D = np.array(h[j])\n",
    "                    List_Machine_weizhi = []\n",
    "                    Site = 0\n",
    "                    for k in range(len(D)):  # 每道工序可使用的机器以及机器的加工时间\n",
    "                        if D[k] == 9999:  # 确定可加工该工序的机器\n",
    "                            continue\n",
    "                        else:\n",
    "                            List_Machine_weizhi.append(Site)\n",
    "                            Site += 1\n",
    "                    Machine_Index_add = random.choice(List_Machine_weizhi)\n",
    "                    MS[i][A] = MS[i][A] + Machine_Index_add\n",
    "                    A += 1\n",
    "        CHS = np.hstack((MS, OS))\n",
    "        return CHS  # 种群基因"
   ],
   "metadata": {
    "collapsed": false,
    "pycharm": {
     "name": "#%%\n"
    }
   }
  },
  {
   "cell_type": "markdown",
   "source": [
    "#### 基因解码模块"
   ],
   "metadata": {
    "collapsed": false,
    "pycharm": {
     "name": "#%% md\n"
    }
   }
  },
  {
   "cell_type": "code",
   "execution_count": 6,
   "outputs": [],
   "source": [
    "class Decode:\n",
    "    def __init__(self, J, Processing_time, M_num):\n",
    "        self.Processing_time = Processing_time # 工件各工序对应各机器加工时间矩阵\n",
    "        self.Scheduled = []  # 已经排产过的工序\n",
    "        self.M_num = M_num  # 加工机器数\n",
    "        self.Machines = []  # 存储机器类\n",
    "        self.fitness = 0\n",
    "        self.J = J   # 各工件对应的工序数字典\n",
    "        for j in range(M_num):\n",
    "            self.Machines.append(Machine_Time_window(j))\n",
    "        self.Machine_State = np.zeros(M_num, dtype=int)  # 在机器上加工的工件是哪个\n",
    "        self.Jobs = []  # 存储工件类\n",
    "        for k, v in J.items():\n",
    "            self.Jobs.append(Job(k, v))\n",
    "\n",
    "    # 时间顺序矩阵和机器顺序矩阵，根据基因的MS部分转换\n",
    "    def Order_Matrix(self, MS):\n",
    "        JM = []\n",
    "        T = []\n",
    "        Ms_decompose = []\n",
    "        Site = 0\n",
    "        # 按照基因的MS部分按工件序号划分\n",
    "        for S_i in self.J.values():\n",
    "            Ms_decompose.append(MS[Site:Site + S_i])\n",
    "            Site += S_i\n",
    "        for i in range(len(Ms_decompose)):  # len(Ms_decompose)表示工件数\n",
    "            JM_i = []\n",
    "            T_i = []\n",
    "            for j in range(len(Ms_decompose[i])): # len(Ms_decompose[i])表示每一个工件对应的工序数\n",
    "                O_j = self.Processing_time[i][j] # 工件i的工序j可选择的加工时间列表\n",
    "                M_ij = []\n",
    "                T_ij = []\n",
    "                for Mac_num in range(len(O_j)):  # 寻找MS对应部分的机器时间和机器顺序\n",
    "                    if O_j[Mac_num] != 9999:\n",
    "                        M_ij.append(Mac_num)\n",
    "                        T_ij.append(O_j[Mac_num])\n",
    "                    else:\n",
    "                        continue\n",
    "                JM_i.append(M_ij[Ms_decompose[i][j]])\n",
    "                T_i.append(T_ij[Ms_decompose[i][j]])\n",
    "            JM.append(JM_i)\n",
    "            T.append(T_i)\n",
    "        return JM, T\n",
    "\n",
    "    # 确定工序的最早加工时间\n",
    "    def Earliest_Start(self, Job, O_num, Machine):\n",
    "        P_t = self.Processing_time[Job][O_num][Machine]\n",
    "        last_O_end = self.Jobs[Job].Last_Processing_end_time  # 上道工序结束时间\n",
    "        Selected_Machine = Machine\n",
    "        M_window = self.Machines[Selected_Machine].Empty_time_window() #当前机器的空格时间\n",
    "        M_Tstart = M_window[0]\n",
    "        M_Tend = M_window[1]\n",
    "        M_Tlen = M_window[2]\n",
    "        Machine_end_time = self.Machines[Selected_Machine].End_time\n",
    "        ealiest_start = max(last_O_end, Machine_end_time)\n",
    "        if M_Tlen is not None:  # 此处为全插入时窗\n",
    "            for le_i in range(len(M_Tlen)):\n",
    "                # 当前空格时间比加工时间大可插入\n",
    "                if M_Tlen[le_i] >= P_t:\n",
    "                    # 当前空格开始时间比该工件上一工序结束时间大可插入该空格，以空格开始时间为这一工序开始\n",
    "                    if M_Tstart[le_i] >= last_O_end:\n",
    "                        ealiest_start = M_Tstart[le_i]\n",
    "                        break\n",
    "                    # 当前空格开始时间比该工件上一工序结束时间小但空格可满足插入该工序，以该工序的上一工序的结束为开始\n",
    "                    if M_Tstart[le_i] < last_O_end and M_Tend[le_i] - last_O_end >= P_t:\n",
    "                        ealiest_start = last_O_end\n",
    "                        break\n",
    "        M_Ealiest = ealiest_start  # 当前工件当前工序的最早开始时间\n",
    "        End_work_time = M_Ealiest + P_t # 当前工件当前工序的结束时间\n",
    "        return M_Ealiest, Selected_Machine, P_t, O_num, last_O_end, End_work_time\n",
    "\n",
    "    # 解码\n",
    "    def decode(self, CHS, Len_Chromo): # CHS：种群基因  Len_Chromo：MS与OS的分解线\n",
    "        MS = list(CHS[0:Len_Chromo])\n",
    "        OS = list(CHS[Len_Chromo:2 * Len_Chromo])\n",
    "        Needed_Matrix = self.Order_Matrix(MS)\n",
    "        JM = Needed_Matrix[0]\n",
    "        for i in OS:\n",
    "            Job = i\n",
    "            O_num = self.Jobs[Job].Current_Processed() # 现在加工的工序\n",
    "            Machine = JM[Job][O_num]  # 用基因的OS部分的工件序号以及工序序号索引机器顺序矩阵的机器序号\n",
    "            Para = self.Earliest_Start(Job, O_num, Machine)\n",
    "            self.Jobs[Job]._Input(Para[0], Para[5], Para[1]) # 工件完成该工序\n",
    "            if Para[5] > self.fitness:\n",
    "                self.fitness = Para[5]\n",
    "            self.Machines[Machine]._Input(Job, Para[0], Para[2], Para[3]) # 机器完成该工件该工序\n",
    "        return self.fitness"
   ],
   "metadata": {
    "collapsed": false,
    "pycharm": {
     "name": "#%%\n"
    }
   }
  },
  {
   "cell_type": "markdown",
   "source": [
    "#### 遗传算法流程模块"
   ],
   "metadata": {
    "collapsed": false,
    "pycharm": {
     "name": "#%% md\n"
    }
   }
  },
  {
   "cell_type": "code",
   "execution_count": 7,
   "outputs": [],
   "source": [
    "class GA():\n",
    "    def __init__(self):\n",
    "        self.Pop_size = 400  # 种群数量\n",
    "        self.Pc = 0.8   # 交叉概率\n",
    "        self.Pm = 0.3   # 变异概率\n",
    "        self.Pv = 0.5   # 选择何种方式进行交叉的概率阈值\n",
    "        self.Pw = 0.95  # 选择何种方式进行变异的概率阈值\n",
    "        self.Max_Itertions = 100  # 最大迭代次数\n",
    "\n",
    "    # 适应度\n",
    "    def fitness(self, CHS, J, Processing_time, M_num, Len):\n",
    "        Fit = []\n",
    "        for i in range(len(CHS)):\n",
    "            d = Decode(J, Processing_time, M_num)\n",
    "            Fit.append(d.decode(CHS[i], Len))\n",
    "        return Fit\n",
    "\n",
    "    # 机器部分交叉\n",
    "    # CHS：基因\n",
    "    # T0：工序总数\n",
    "    def machine_cross(self, CHS1, CHS2, T0):\n",
    "        T_r = [j for j in range(T0)]\n",
    "        r = random.randint(1, 10)  # 在区间[1,T0]内产生一个整数r\n",
    "        random.shuffle(T_r)\n",
    "        R = T_r[0:r]  # 按照随机数r产生r个互不相等的整数\n",
    "        OS_1 = CHS1[O_num:2 * T0]\n",
    "        OS_2 = CHS2[O_num:2 * T0]\n",
    "        MS_1 = CHS2[0:T0]\n",
    "        MS_2 = CHS1[0:T0]\n",
    "        for i in R:\n",
    "            K, K_2 = MS_1[i], MS_2[i]\n",
    "            MS_1[i], MS_2[i] = K_2, K\n",
    "        CHS1 = np.hstack((MS_1, OS_1))\n",
    "        CHS2 = np.hstack((MS_2, OS_2))\n",
    "        return CHS1, CHS2\n",
    "\n",
    "    # 工序部分交叉\n",
    "    # CHS：基因\n",
    "    # T0：工序总数\n",
    "    # J_num：工件总数\n",
    "    def operation_cross(self, CHS1, CHS2, T0, J_num):\n",
    "        OS_1 = CHS1[T0:2 * T0]\n",
    "        OS_2 = CHS2[T0:2 * T0]\n",
    "        MS_1 = CHS1[0:T0]\n",
    "        MS_2 = CHS2[0:T0]\n",
    "        Job_list = [i for i in range(J_num)]\n",
    "        random.shuffle(Job_list)\n",
    "        r = random.randint(1, J_num - 1)\n",
    "        Set1 = Job_list[0:r]\n",
    "        Set2 = Job_list[r:J_num]\n",
    "        new_os = list(np.zeros(T0, dtype=int))\n",
    "        for k, v in enumerate(OS_1):\n",
    "            if v in Set1:\n",
    "                new_os[k] = v + 1\n",
    "        for i in OS_2:\n",
    "            if i not in Set1:\n",
    "                Site = new_os.index(0)\n",
    "                new_os[Site] = i + 1\n",
    "        new_os = np.array([j - 1 for j in new_os])\n",
    "        CHS1 = np.hstack((MS_1, new_os))\n",
    "        CHS2 = np.hstack((MS_2, new_os))\n",
    "        return CHS1, CHS2\n",
    "\n",
    "    # 机器部分变异\n",
    "    # CHS：基因\n",
    "    # O：加工时间矩阵\n",
    "    # T0：工序总数\n",
    "    # J：各工件加工信息\n",
    "    def machine_variation(self, CHS, O, T0, J):\n",
    "        Tr = [i_num for i_num in range(T0)]\n",
    "        MS = CHS[0:T0]\n",
    "        OS = CHS[T0:2 * T0]\n",
    "        # 机器选择部分\n",
    "        r = random.randint(1, T0 - 1)  # 在变异染色体中选择r个位置\n",
    "        random.shuffle(Tr)\n",
    "        T_r = Tr[0:r]\n",
    "        for num in T_r:\n",
    "            T_0 = [j for j in range(T0)]\n",
    "            K = []\n",
    "            Site = 0\n",
    "            for k, v in J.items():\n",
    "                K.append(T_0[Site:Site + v])\n",
    "                Site += v\n",
    "            for i in range(len(K)):\n",
    "                if num in K[i]:\n",
    "                    O_i = i\n",
    "                    O_j = K[i].index(num)\n",
    "                    break\n",
    "            Machine_using = O[O_i][O_j]\n",
    "            Machine_time = []\n",
    "            for j in Machine_using:\n",
    "                if j != 9999:\n",
    "                    Machine_time.append(j)\n",
    "            Min_index = Machine_time.index(min(Machine_time))\n",
    "            MS[num] = Min_index\n",
    "        CHS = np.hstack((MS, OS))\n",
    "        return CHS\n",
    "\n",
    "    # 工序部分变异\n",
    "    # CHS：基因\n",
    "    # T0：工序总数\n",
    "    # J_num：工件总数\n",
    "    # J_：各工件加工信息\n",
    "    # O：加工时间矩阵\n",
    "    # M_num：机器总数\n",
    "    def operation_variation(self, CHS, T0, J_num, J, O, M_num):\n",
    "        MS = CHS[0:T0]\n",
    "        OS = list(CHS[T0:2 * T0])\n",
    "        r = random.randint(1, J_num - 1)\n",
    "        Tr = [i for i in range(J_num)]\n",
    "        random.shuffle(Tr)\n",
    "        Tr = Tr[0:r]\n",
    "        J_os = dict(enumerate(OS))  # 随机选择r个不同的基因\n",
    "        J_os = sorted(J_os.items(), key=lambda d: d[1])\n",
    "        Site = []\n",
    "        for i in range(r):\n",
    "            Site.append(OS.index(Tr[i]))\n",
    "        A = list(itertools.permutations(Tr, r))\n",
    "        A_CHS = []\n",
    "        for i in range(len(A)):\n",
    "            for j in range(len(A[i])):\n",
    "                OS[Site[j]] = A[i][j]\n",
    "            C_I = np.hstack((MS, OS))\n",
    "            A_CHS.append(C_I)\n",
    "        Fit = []\n",
    "        for i in range(len(A_CHS)):\n",
    "            d = Decode(J, O, M_num)\n",
    "            Fit.append(d.decode(CHS, T0))\n",
    "        return A_CHS[Fit.index(min(Fit))]"
   ],
   "metadata": {
    "collapsed": false,
    "pycharm": {
     "name": "#%%\n"
    }
   }
  },
  {
   "cell_type": "markdown",
   "source": [
    "#### 甘特图绘制模块"
   ],
   "metadata": {
    "collapsed": false,
    "pycharm": {
     "name": "#%% md\n"
    }
   }
  },
  {
   "cell_type": "code",
   "execution_count": 8,
   "outputs": [],
   "source": [
    "def Gantt(Machines):\n",
    "    M = ['red', 'blue', 'yellow', 'orange', 'green', 'palegoldenrod', 'purple', 'pink', 'Thistle', 'Magenta',\n",
    "         'SlateBlue', 'RoyalBlue', 'Cyan', 'Aqua', 'floralwhite', 'ghostwhite', 'goldenrod', 'mediumslateblue',\n",
    "         'navajowhite', 'navy', 'sandybrown', 'moccasin']\n",
    "    for i in range(len(Machines)):\n",
    "        Machine = Machines[i]\n",
    "        Start_time = Machine.O_start\n",
    "        End_time = Machine.O_end\n",
    "        for i_1 in range(len(End_time)):\n",
    "            plt.barh(i, width=End_time[i_1] - Start_time[i_1], height=0.8, left=Start_time[i_1],\n",
    "                     color=M[Machine.assigned_task[i_1][0] - 1], edgecolor='black')\n",
    "            plt.text(x=Start_time[i_1] + (End_time[i_1] - Start_time[i_1]) / 2 - 0.5, y=i,\n",
    "                     s=Machine.assigned_task[i_1][0])\n",
    "    plt.yticks(np.arange(len(Machines) + 1), np.arange(1, len(Machines) + 2))\n",
    "    plt.title('Scheduling Gantt chart')\n",
    "    plt.ylabel('Machines')\n",
    "    plt.xlabel('Time(min)')\n",
    "    plt.savefig('优化后排程方案的甘特图.png')\n",
    "    plt.show()"
   ],
   "metadata": {
    "collapsed": false,
    "pycharm": {
     "name": "#%%\n"
    }
   }
  },
  {
   "cell_type": "markdown",
   "source": [
    "#### 主文件"
   ],
   "metadata": {
    "collapsed": false,
    "pycharm": {
     "name": "#%% md\n"
    }
   }
  },
  {
   "cell_type": "code",
   "execution_count": null,
   "outputs": [],
   "source": [
    "if __name__ == '__main__':\n",
    "    Optimal_fit = 9999      # 最佳适应度（初始化）\n",
    "    Optimal_CHS = 0         # 最佳适应度对应的基因个体（初始化）\n",
    "    g = GA()\n",
    "    e = Encode(Processing_time, g.Pop_size, J, J_num, M_num, O_num)\n",
    "    C = e.Initial()\n",
    "    Best_fit = []  # 记录适应度在迭代过程中的变化，便于绘图\n",
    "    for i in range(g.Max_Itertions):\n",
    "        print(\"iter_{} start!\".format(i))\n",
    "        Fit = g.fitness(C, J, Processing_time, M_num, O_num)\n",
    "        Best = C[Fit.index(min(Fit))]\n",
    "        best_fitness = min(Fit)\n",
    "        if best_fitness < Optimal_fit:\n",
    "            Optimal_fit = best_fitness\n",
    "            Optimal_CHS = Best\n",
    "            Best_fit.append(Optimal_fit)\n",
    "            print('best_fitness', best_fitness)\n",
    "            d = Decode(J, Processing_time, M_num)\n",
    "            Fit.append(d.decode(Optimal_CHS, O_num))\n",
    "            Gantt(d.Machines)\n",
    "        else:\n",
    "            Best_fit.append(Optimal_fit)\n",
    "        for j in range(len(C)):\n",
    "            Cafter = []\n",
    "            if random.random() < g.Pc:\n",
    "                N_i = random.choice(np.arange(len(C)))\n",
    "                if random.random() < g.Pv:\n",
    "                    Cross = g.machine_cross(C[j], C[N_i], O_num)\n",
    "                else:\n",
    "                    Cross = g.operation_cross(C[j], C[N_i], O_num, J_num)\n",
    "                Cafter.append(Cross[0])\n",
    "                Cafter.append(Cross[1])\n",
    "                Cafter.append(C[j])\n",
    "            if random.random() < g.Pm:\n",
    "                if random.random() < g.Pw:\n",
    "                    vvv = g.machine_variation(C[j], Processing_time, O_num, J)\n",
    "                else:\n",
    "                    vvv = g.operation_variation(C[j], O_num, J_num, J, Processing_time, M_num)\n",
    "                Cafter.append(vvv)\n",
    "            if Cafter != []:\n",
    "                Fit = g.fitness(Cafter, J, Processing_time, M_num, O_num)\n",
    "                C[j] = Cafter[Fit.index(min(Fit))]\n",
    "    # 绘制甘特图\n",
    "    x = np.linspace(0, 50, g.Max_Itertions)\n",
    "    plt.plot(x, Best_fit, '-k')\n",
    "    plt.title('the maximum completion time of each iteration')\n",
    "    plt.ylabel('Cmax')\n",
    "    plt.xlabel('Test Num')\n",
    "    plt.savefig('最大完成时间的优化过程.png')\n",
    "    plt.show()"
   ],
   "metadata": {
    "collapsed": false,
    "pycharm": {
     "name": "#%%\n",
     "is_executing": true
    }
   }
  }
 ],
 "metadata": {
  "kernelspec": {
   "display_name": "Python 3",
   "language": "python",
   "name": "python3"
  },
  "language_info": {
   "codemirror_mode": {
    "name": "ipython",
    "version": 2
   },
   "file_extension": ".py",
   "mimetype": "text/x-python",
   "name": "python",
   "nbconvert_exporter": "python",
   "pygments_lexer": "ipython2",
   "version": "2.7.6"
  }
 },
 "nbformat": 4,
 "nbformat_minor": 0
}